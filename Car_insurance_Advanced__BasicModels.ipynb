{
 "cells": [
  {
   "cell_type": "markdown",
   "metadata": {},
   "source": [
    "# Car Insurance Claim prediction - Advanced Modeling"
   ]
  },
  {
   "cell_type": "markdown",
   "metadata": {},
   "source": [
    "### Try out Basic model without Hyper parameter tuning"
   ]
  },
  {
   "cell_type": "code",
   "execution_count": 1,
   "metadata": {
    "id": "YpmxB1lbyRg4"
   },
   "outputs": [],
   "source": [
    "import pandas as pd\n",
    "import numpy as np\n",
    "from sklearn.model_selection import train_test_split\n",
    "from sklearn.ensemble import RandomForestClassifier\n",
    "from sklearn.metrics import confusion_matrix, accuracy_score, f1_score\n"
   ]
  },
  {
   "cell_type": "code",
   "execution_count": 2,
   "metadata": {
    "id": "XuLOG6vEyPpK"
   },
   "outputs": [],
   "source": [
    "data = pd.read_csv('pls_df.csv')"
   ]
  },
  {
   "cell_type": "code",
   "execution_count": 3,
   "metadata": {
    "colab": {
     "base_uri": "https://localhost:8080/"
    },
    "id": "wS7z5w4lyuZn",
    "outputId": "853125d6-3de7-41b1-982b-422bc73159af"
   },
   "outputs": [
    {
     "data": {
      "text/plain": [
       "(58592, 46)"
      ]
     },
     "execution_count": 3,
     "metadata": {},
     "output_type": "execute_result"
    }
   ],
   "source": [
    "data.shape\n"
   ]
  },
  {
   "cell_type": "code",
   "execution_count": 4,
   "metadata": {
    "id": "3uoFHrpDyjKH"
   },
   "outputs": [],
   "source": [
    "#feature set\n",
    "X = data.drop('is_claim',axis = 1)"
   ]
  },
  {
   "cell_type": "code",
   "execution_count": 5,
   "metadata": {
    "colab": {
     "base_uri": "https://localhost:8080/"
    },
    "id": "QRsFEZvIyybu",
    "outputId": "565248e5-1914-4c5a-a05b-1cda49e16acf"
   },
   "outputs": [
    {
     "data": {
      "text/plain": [
       "(58592, 45)"
      ]
     },
     "execution_count": 5,
     "metadata": {},
     "output_type": "execute_result"
    }
   ],
   "source": [
    "X.shape"
   ]
  },
  {
   "cell_type": "code",
   "execution_count": 6,
   "metadata": {
    "id": "cE0gM3cyy1VX"
   },
   "outputs": [],
   "source": [
    "#response\n",
    "y = data['is_claim']"
   ]
  },
  {
   "cell_type": "code",
   "execution_count": 7,
   "metadata": {
    "colab": {
     "base_uri": "https://localhost:8080/"
    },
    "id": "CNmgpXMxy-0I",
    "outputId": "886bd4f4-c7d5-46d3-baf1-04c4b6d1568f"
   },
   "outputs": [
    {
     "data": {
      "text/plain": [
       "(58592,)"
      ]
     },
     "execution_count": 7,
     "metadata": {},
     "output_type": "execute_result"
    }
   ],
   "source": [
    "y.shape"
   ]
  },
  {
   "cell_type": "code",
   "execution_count": 8,
   "metadata": {
    "id": "-RjAsaEQzGxY"
   },
   "outputs": [],
   "source": [
    "#train test split\n",
    "X_train, X_test, y_train, y_test = train_test_split(X, y, test_size=0.2, random_state=42)"
   ]
  },
  {
   "cell_type": "markdown",
   "metadata": {
    "id": "bG9H4qGxEf8x"
   },
   "source": [
    "### 1. Imbalanced data set"
   ]
  },
  {
   "cell_type": "code",
   "execution_count": 9,
   "metadata": {
    "colab": {
     "base_uri": "https://localhost:8080/"
    },
    "id": "bsOBLQojKSSH",
    "outputId": "1ab6c142-21b5-4483-a615-7bade7cca985",
    "scrolled": true
   },
   "outputs": [
    {
     "name": "stderr",
     "output_type": "stream",
     "text": [
      "C:\\Users\\Aravinda\\anaconda3\\lib\\site-packages\\sklearn\\linear_model\\_logistic.py:458: ConvergenceWarning: lbfgs failed to converge (status=1):\n",
      "STOP: TOTAL NO. of ITERATIONS REACHED LIMIT.\n",
      "\n",
      "Increase the number of iterations (max_iter) or scale the data as shown in:\n",
      "    https://scikit-learn.org/stable/modules/preprocessing.html\n",
      "Please also refer to the documentation for alternative solver options:\n",
      "    https://scikit-learn.org/stable/modules/linear_model.html#logistic-regression\n",
      "  n_iter_i = _check_optimize_result(\n",
      "C:\\Users\\Aravinda\\anaconda3\\lib\\site-packages\\sklearn\\metrics\\_classification.py:1344: UndefinedMetricWarning: Precision is ill-defined and being set to 0.0 due to no predicted samples. Use `zero_division` parameter to control this behavior.\n",
      "  _warn_prf(average, modifier, msg_start, len(result))\n",
      "C:\\Users\\Aravinda\\anaconda3\\lib\\site-packages\\sklearn\\metrics\\_classification.py:1344: UndefinedMetricWarning: Precision is ill-defined and being set to 0.0 due to no predicted samples. Use `zero_division` parameter to control this behavior.\n",
      "  _warn_prf(average, modifier, msg_start, len(result))\n"
     ]
    },
    {
     "name": "stdout",
     "output_type": "stream",
     "text": [
      "Evaluation Metrics (Training and Test Data):\n",
      "                     Train Accuracy  Test Accuracy  Train Precision  \\\n",
      "Logistic Regression        0.936168       0.935489         0.000000   \n",
      "Naive Bayes                0.896358       0.899650         0.073193   \n",
      "K-Nearest Neighbors        0.936979       0.932503         0.620253   \n",
      "Random Forest              0.999893       0.931137         1.000000   \n",
      "XGBoost                    0.937448       0.935319         1.000000   \n",
      "\n",
      "                     Test Precision  Train Recall  Test Recall  \\\n",
      "Logistic Regression        0.000000      0.000000     0.000000   \n",
      "Naive Bayes                0.073171      0.053476     0.047619   \n",
      "K-Nearest Neighbors        0.111111      0.032754     0.006614   \n",
      "Random Forest              0.067797      0.998329     0.005291   \n",
      "XGBoost                    0.000000      0.020053     0.000000   \n",
      "\n",
      "                     Train F1-Score  Test F1-Score  Train F2-Score  \\\n",
      "Logistic Regression        0.000000       0.000000        0.000000   \n",
      "Naive Bayes                0.061800       0.057692        0.056521   \n",
      "K-Nearest Neighbors        0.062222       0.012484        0.040409   \n",
      "Random Forest              0.999164       0.009816        0.998663   \n",
      "XGBoost                    0.039318       0.000000        0.024942   \n",
      "\n",
      "                     Test F2-Score  \n",
      "Logistic Regression       0.000000  \n",
      "Naive Bayes               0.051195  \n",
      "K-Nearest Neighbors       0.008146  \n",
      "Random Forest             0.006487  \n",
      "XGBoost                   0.000000  \n"
     ]
    }
   ],
   "source": [
    "from sklearn.ensemble import RandomForestClassifier\n",
    "from sklearn.naive_bayes import GaussianNB\n",
    "from sklearn.linear_model import LogisticRegression\n",
    "from sklearn.neighbors import KNeighborsClassifier\n",
    "from xgboost import XGBClassifier\n",
    "from sklearn.metrics import accuracy_score, precision_score, recall_score, f1_score, fbeta_score\n",
    "\n",
    "\n",
    "# Initialize classifiers\n",
    "classifiers = {\n",
    "    'Logistic Regression': LogisticRegression(random_state=42),\n",
    "    'Naive Bayes': GaussianNB(),\n",
    "    'K-Nearest Neighbors': KNeighborsClassifier(),\n",
    "    'Random Forest': RandomForestClassifier(random_state=42),\n",
    "    'XGBoost': XGBClassifier(random_state=42)\n",
    "}\n",
    "\n",
    "# Initialize a dictionary to store results\n",
    "results = {}\n",
    "\n",
    "# Fit each classifier and compute evaluation metrics\n",
    "for clf_name, clf in classifiers.items():\n",
    "    clf.fit(X_train, y_train)\n",
    "    y_train_pred = clf.predict(X_train)\n",
    "    y_test_pred = clf.predict(X_test)\n",
    "    train_accuracy = accuracy_score(y_train, y_train_pred)\n",
    "    test_accuracy = accuracy_score(y_test, y_test_pred)\n",
    "\n",
    "    train_precision = precision_score(y_train, y_train_pred)\n",
    "    test_precision = precision_score(y_test, y_test_pred)\n",
    "\n",
    "    train_recall = recall_score(y_train, y_train_pred)\n",
    "    test_recall = recall_score(y_test, y_test_pred)\n",
    "\n",
    "    train_f1 = f1_score(y_train, y_train_pred)\n",
    "    test_f1 = f1_score(y_test, y_test_pred)\n",
    "\n",
    "    train_f2 = fbeta_score(y_train, y_train_pred, beta=2)\n",
    "    test_f2 = fbeta_score(y_test, y_test_pred, beta=2)\n",
    "\n",
    "    results[clf_name] = {\n",
    "        'Train Accuracy': train_accuracy,\n",
    "        'Test Accuracy': test_accuracy,\n",
    "        'Train Precision': train_precision,\n",
    "        'Test Precision': test_precision,\n",
    "        'Train Recall': train_recall,\n",
    "        'Test Recall': test_recall,\n",
    "        'Train F1-Score': train_f1,\n",
    "        'Test F1-Score': test_f1,\n",
    "        'Train F2-Score': train_f2,\n",
    "        'Test F2-Score': test_f2\n",
    "    }\n",
    "\n",
    "# Create a table for evaluation metrics\n",
    "metrics_table = pd.DataFrame(results).T\n",
    "\n",
    "print(\"Evaluation Metrics (Training and Test Data):\")\n",
    "print(metrics_table)\n"
   ]
  },
  {
   "cell_type": "markdown",
   "metadata": {
    "id": "LcUDFVr0F5Ex"
   },
   "source": [
    "### 2. Balancing with SMOTE"
   ]
  },
  {
   "cell_type": "code",
   "execution_count": 10,
   "metadata": {
    "colab": {
     "base_uri": "https://localhost:8080/"
    },
    "id": "0_R8E3EYGADJ",
    "outputId": "b34c3241-1820-4ce3-ed8c-0c96bc442b49"
   },
   "outputs": [
    {
     "name": "stderr",
     "output_type": "stream",
     "text": [
      "C:\\Users\\Aravinda\\anaconda3\\lib\\site-packages\\sklearn\\linear_model\\_logistic.py:458: ConvergenceWarning: lbfgs failed to converge (status=1):\n",
      "STOP: TOTAL NO. of ITERATIONS REACHED LIMIT.\n",
      "\n",
      "Increase the number of iterations (max_iter) or scale the data as shown in:\n",
      "    https://scikit-learn.org/stable/modules/preprocessing.html\n",
      "Please also refer to the documentation for alternative solver options:\n",
      "    https://scikit-learn.org/stable/modules/linear_model.html#logistic-regression\n",
      "  n_iter_i = _check_optimize_result(\n"
     ]
    },
    {
     "name": "stdout",
     "output_type": "stream",
     "text": [
      "Evaluation Metrics (Training and Test Data):\n",
      "                     Train Accuracy  Test Accuracy  Train Precision  \\\n",
      "Logistic Regression        0.585504       0.572574         0.582176   \n",
      "Naive Bayes                0.536269       0.401485         0.527603   \n",
      "K-Nearest Neighbors        0.894294       0.709788         0.838445   \n",
      "Random Forest              0.999989       0.898114         0.999977   \n",
      "XGBoost                    0.962706       0.932844         0.998160   \n",
      "\n",
      "                     Test Precision  Train Recall  Test Recall  \\\n",
      "Logistic Regression        0.081974      0.605752     0.551587   \n",
      "Naive Bayes                0.069601      0.693239     0.669312   \n",
      "K-Nearest Neighbors        0.080824      0.976801     0.337302   \n",
      "Random Forest              0.103261      1.000000     0.075397   \n",
      "XGBoost                    0.121951      0.927121     0.006614   \n",
      "\n",
      "                     Train F1-Score  Test F1-Score  Train F2-Score  \\\n",
      "Logistic Regression        0.593730       0.142735        0.600885   \n",
      "Naive Bayes                0.599185       0.126090        0.652283   \n",
      "K-Nearest Neighbors        0.902350       0.130401        0.945594   \n",
      "Random Forest              0.999989       0.087156        0.999995   \n",
      "XGBoost                    0.961330       0.012547        0.940508   \n",
      "\n",
      "                     Test F2-Score  \n",
      "Logistic Regression       0.257058  \n",
      "Naive Bayes               0.245774  \n",
      "K-Nearest Neighbors       0.206344  \n",
      "Random Forest             0.079698  \n",
      "XGBoost                   0.008157  \n"
     ]
    }
   ],
   "source": [
    "from sklearn.ensemble import RandomForestClassifier\n",
    "from sklearn.naive_bayes import GaussianNB\n",
    "from sklearn.linear_model import LogisticRegression\n",
    "from sklearn.neighbors import KNeighborsClassifier\n",
    "from xgboost import XGBClassifier\n",
    "from sklearn.metrics import accuracy_score, precision_score, recall_score, f1_score, fbeta_score\n",
    "from imblearn.over_sampling import RandomOverSampler\n",
    "from imblearn.over_sampling import SMOTE\n",
    "\n",
    "# Apply SMOTE to balance the training set\n",
    "smote = SMOTE(random_state=42)\n",
    "X_train_resampled, y_train_resampled = smote.fit_resample(X_train, y_train)\n",
    "\n",
    "# Initialize classifiers\n",
    "classifiers = {\n",
    "    'Logistic Regression': LogisticRegression(random_state=42),\n",
    "    'Naive Bayes': GaussianNB(),\n",
    "    'K-Nearest Neighbors': KNeighborsClassifier(),\n",
    "    'Random Forest': RandomForestClassifier(random_state=42),\n",
    "    'XGBoost': XGBClassifier(random_state=42)\n",
    "}\n",
    "\n",
    "# Initialize a dictionary to store results\n",
    "results = {}\n",
    "\n",
    "# Fit each classifier and compute evaluation metrics\n",
    "for clf_name, clf in classifiers.items():\n",
    "    clf.fit(X_train_resampled, y_train_resampled)\n",
    "    y_train_pred = clf.predict(X_train_resampled)\n",
    "    y_test_pred = clf.predict(X_test)\n",
    "    train_accuracy = accuracy_score(y_train_resampled, y_train_pred)\n",
    "    test_accuracy = accuracy_score(y_test, y_test_pred)\n",
    "\n",
    "    train_precision = precision_score(y_train_resampled, y_train_pred)\n",
    "    test_precision = precision_score(y_test, y_test_pred)\n",
    "\n",
    "    train_recall = recall_score(y_train_resampled, y_train_pred)\n",
    "    test_recall = recall_score(y_test, y_test_pred)\n",
    "\n",
    "    train_f1 = f1_score(y_train_resampled, y_train_pred)\n",
    "    test_f1 = f1_score(y_test, y_test_pred)\n",
    "\n",
    "    train_f2 = fbeta_score(y_train_resampled, y_train_pred, beta=2)\n",
    "    test_f2 = fbeta_score(y_test, y_test_pred, beta=2)\n",
    "\n",
    "    results[clf_name] = {\n",
    "        'Train Accuracy': train_accuracy,\n",
    "        'Test Accuracy': test_accuracy,\n",
    "        'Train Precision': train_precision,\n",
    "        'Test Precision': test_precision,\n",
    "        'Train Recall': train_recall,\n",
    "        'Test Recall': test_recall,\n",
    "        'Train F1-Score': train_f1,\n",
    "        'Test F1-Score': test_f1,\n",
    "        'Train F2-Score': train_f2,\n",
    "        'Test F2-Score': test_f2\n",
    "    }\n",
    "\n",
    "# Create a table for evaluation metrics\n",
    "metrics_table = pd.DataFrame(results).T\n",
    "\n",
    "print(\"Evaluation Metrics (Training and Test Data):\")\n",
    "print(metrics_table)"
   ]
  },
  {
   "cell_type": "markdown",
   "metadata": {
    "id": "JdiH0-1EL5AD"
   },
   "source": [
    "### 2. Balancing with OverSampling"
   ]
  },
  {
   "cell_type": "code",
   "execution_count": 11,
   "metadata": {
    "colab": {
     "base_uri": "https://localhost:8080/"
    },
    "id": "tNo4o0rsIAcg",
    "outputId": "eb2a555c-1abc-4d01-d9c6-edfcb7615137"
   },
   "outputs": [
    {
     "name": "stderr",
     "output_type": "stream",
     "text": [
      "C:\\Users\\Aravinda\\anaconda3\\lib\\site-packages\\sklearn\\linear_model\\_logistic.py:458: ConvergenceWarning: lbfgs failed to converge (status=1):\n",
      "STOP: TOTAL NO. of ITERATIONS REACHED LIMIT.\n",
      "\n",
      "Increase the number of iterations (max_iter) or scale the data as shown in:\n",
      "    https://scikit-learn.org/stable/modules/preprocessing.html\n",
      "Please also refer to the documentation for alternative solver options:\n",
      "    https://scikit-learn.org/stable/modules/linear_model.html#logistic-regression\n",
      "  n_iter_i = _check_optimize_result(\n"
     ]
    },
    {
     "name": "stdout",
     "output_type": "stream",
     "text": [
      "Evaluation Metrics (Training and Test Data):\n",
      "                     Train Accuracy  Test Accuracy  Train Precision  \\\n",
      "Logistic Regression        0.578622       0.566857         0.575515   \n",
      "Naive Bayes                0.525945       0.364622         0.518909   \n",
      "K-Nearest Neighbors        0.941056       0.785391         0.894545   \n",
      "Random Forest              0.999989       0.920300         0.999977   \n",
      "XGBoost                    0.810613       0.696134         0.770823   \n",
      "\n",
      "                     Test Precision  Train Recall  Test Recall  \\\n",
      "Logistic Regression        0.082689      0.599189     0.566138   \n",
      "Naive Bayes                0.068943      0.711994     0.707672   \n",
      "K-Nearest Neighbors        0.080591      1.000000     0.223545   \n",
      "Random Forest              0.087963      1.000000     0.025132   \n",
      "XGBoost                    0.100086      0.884073     0.464286   \n",
      "\n",
      "                     Train F1-Score  Test F1-Score  Train F2-Score  \\\n",
      "Logistic Regression        0.587114       0.144302        0.594300   \n",
      "Naive Bayes                0.600307       0.125646        0.662678   \n",
      "K-Nearest Neighbors        0.944337       0.118472        0.976966   \n",
      "Random Forest              0.999989       0.039095        0.999995   \n",
      "XGBoost                    0.823573       0.164673        0.858837   \n",
      "\n",
      "                     Test F2-Score  \n",
      "Logistic Regression       0.260976  \n",
      "Naive Bayes               0.248053  \n",
      "K-Nearest Neighbors       0.165007  \n",
      "Random Forest             0.029321  \n",
      "XGBoost                   0.268718  \n"
     ]
    }
   ],
   "source": [
    "from imblearn.over_sampling import RandomOverSampler\n",
    "\n",
    "# Apply Random Oversampling to balance the training set\n",
    "oversampler = RandomOverSampler(random_state=42)\n",
    "X_train_resampled, y_train_resampled = oversampler.fit_resample(X_train, y_train)\n",
    "\n",
    "# Initialize classifiers\n",
    "classifiers = {\n",
    "    'Logistic Regression': LogisticRegression(random_state=42),\n",
    "    'Naive Bayes': GaussianNB(),\n",
    "    'K-Nearest Neighbors': KNeighborsClassifier(),\n",
    "    'Random Forest': RandomForestClassifier(random_state=42),\n",
    "    'XGBoost': XGBClassifier(random_state=42)\n",
    "}\n",
    "\n",
    "# Initialize a dictionary to store results\n",
    "results = {}\n",
    "\n",
    "# Fit each classifier and compute evaluation metrics\n",
    "for clf_name, clf in classifiers.items():\n",
    "    clf.fit(X_train_resampled, y_train_resampled)\n",
    "    y_train_pred = clf.predict(X_train_resampled)\n",
    "    y_test_pred = clf.predict(X_test)\n",
    "    train_accuracy = accuracy_score(y_train_resampled, y_train_pred)\n",
    "    test_accuracy = accuracy_score(y_test, y_test_pred)\n",
    "\n",
    "    train_precision = precision_score(y_train_resampled, y_train_pred)\n",
    "    test_precision = precision_score(y_test, y_test_pred)\n",
    "\n",
    "    train_recall = recall_score(y_train_resampled, y_train_pred)\n",
    "    test_recall = recall_score(y_test, y_test_pred)\n",
    "\n",
    "    train_f1 = f1_score(y_train_resampled, y_train_pred)\n",
    "    test_f1 = f1_score(y_test, y_test_pred)\n",
    "\n",
    "    train_f2 = fbeta_score(y_train_resampled, y_train_pred, beta=2)\n",
    "    test_f2 = fbeta_score(y_test, y_test_pred, beta=2)\n",
    "\n",
    "    results[clf_name] = {\n",
    "        'Train Accuracy': train_accuracy,\n",
    "        'Test Accuracy': test_accuracy,\n",
    "        'Train Precision': train_precision,\n",
    "        'Test Precision': test_precision,\n",
    "        'Train Recall': train_recall,\n",
    "        'Test Recall': test_recall,\n",
    "        'Train F1-Score': train_f1,\n",
    "        'Test F1-Score': test_f1,\n",
    "        'Train F2-Score': train_f2,\n",
    "        'Test F2-Score': test_f2\n",
    "    }\n",
    "\n",
    "# Create a table for evaluation metrics\n",
    "metrics_table = pd.DataFrame(results).T\n",
    "\n",
    "print(\"Evaluation Metrics (Training and Test Data):\")\n",
    "print(metrics_table)\n",
    "\n"
   ]
  },
  {
   "cell_type": "markdown",
   "metadata": {
    "id": "seUWp7SAMIPb"
   },
   "source": [
    "### 3.Balancing With UnderSampling"
   ]
  },
  {
   "cell_type": "code",
   "execution_count": 12,
   "metadata": {
    "colab": {
     "base_uri": "https://localhost:8080/"
    },
    "id": "JWD3o6rpMN0C",
    "outputId": "c3fec947-2fc5-44f4-b7b0-ec4a8b012824"
   },
   "outputs": [
    {
     "name": "stderr",
     "output_type": "stream",
     "text": [
      "C:\\Users\\Aravinda\\anaconda3\\lib\\site-packages\\sklearn\\linear_model\\_logistic.py:458: ConvergenceWarning: lbfgs failed to converge (status=1):\n",
      "STOP: TOTAL NO. of ITERATIONS REACHED LIMIT.\n",
      "\n",
      "Increase the number of iterations (max_iter) or scale the data as shown in:\n",
      "    https://scikit-learn.org/stable/modules/preprocessing.html\n",
      "Please also refer to the documentation for alternative solver options:\n",
      "    https://scikit-learn.org/stable/modules/linear_model.html#logistic-regression\n",
      "  n_iter_i = _check_optimize_result(\n"
     ]
    },
    {
     "name": "stdout",
     "output_type": "stream",
     "text": [
      "Evaluation Metrics (Training and Test Data with Random Undersampling):\n",
      "                     Train Accuracy  Test Accuracy  Train Precision  \\\n",
      "Logistic Regression        0.577874       0.556105         0.574441   \n",
      "Naive Bayes                0.535261       0.420599         0.528599   \n",
      "K-Nearest Neighbors        0.709726       0.531018         0.704198   \n",
      "Random Forest              1.000000       0.578462         1.000000   \n",
      "XGBoost                    0.858122       0.556873         0.842004   \n",
      "\n",
      "                     Test Precision  Train Recall  Test Recall  \\\n",
      "Logistic Regression        0.081040      0.600936     0.568783   \n",
      "Naive Bayes                0.070839      0.651738     0.658730   \n",
      "K-Nearest Neighbors        0.074201      0.723262     0.546296   \n",
      "Random Forest              0.086070      1.000000     0.575397   \n",
      "XGBoost                    0.083849      0.881684     0.591270   \n",
      "\n",
      "                     Train F1-Score  Test F1-Score  Train F2-Score  \\\n",
      "Logistic Regression        0.587390       0.141867        0.595443   \n",
      "Naive Bayes                0.583745       0.127922        0.622725   \n",
      "K-Nearest Neighbors        0.713603       0.130655        0.719367   \n",
      "Random Forest              1.000000       0.149742        1.000000   \n",
      "XGBoost                    0.861388       0.146870        0.873452   \n",
      "\n",
      "                     Test F2-Score  \n",
      "Logistic Regression       0.258103  \n",
      "Naive Bayes               0.247663  \n",
      "K-Nearest Neighbors       0.240396  \n",
      "Random Forest             0.269250  \n",
      "XGBoost                   0.267504  \n"
     ]
    }
   ],
   "source": [
    "from imblearn.under_sampling import RandomUnderSampler\n",
    "\n",
    "# Apply Random Undersampling to the training set\n",
    "undersampler = RandomUnderSampler(random_state=42)\n",
    "X_train_resampled, y_train_resampled = undersampler.fit_resample(X_train, y_train)\n",
    "\n",
    "# Initialize classifiers\n",
    "classifiers = {\n",
    "    'Logistic Regression': LogisticRegression(random_state=42),\n",
    "    'Naive Bayes': GaussianNB(),\n",
    "    'K-Nearest Neighbors': KNeighborsClassifier(),\n",
    "    'Random Forest': RandomForestClassifier(random_state=42),\n",
    "    'XGBoost': XGBClassifier(random_state=42)\n",
    "}\n",
    "\n",
    "# Initialize a dictionary to store results\n",
    "results = {}\n",
    "\n",
    "# Fit each classifier and compute evaluation metrics\n",
    "for clf_name, clf in classifiers.items():\n",
    "    clf.fit(X_train_resampled, y_train_resampled)\n",
    "    y_train_pred = clf.predict(X_train_resampled)\n",
    "    y_test_pred = clf.predict(X_test)\n",
    "    train_accuracy = accuracy_score(y_train_resampled, y_train_pred)\n",
    "    test_accuracy = accuracy_score(y_test, y_test_pred)\n",
    "\n",
    "    train_precision = precision_score(y_train_resampled, y_train_pred)\n",
    "    test_precision = precision_score(y_test, y_test_pred)\n",
    "\n",
    "    train_recall = recall_score(y_train_resampled, y_train_pred)\n",
    "    test_recall = recall_score(y_test, y_test_pred)\n",
    "\n",
    "    train_f1 = f1_score(y_train_resampled, y_train_pred)\n",
    "    test_f1 = f1_score(y_test, y_test_pred)\n",
    "\n",
    "    train_f2 = fbeta_score(y_train_resampled, y_train_pred, beta=2)\n",
    "    test_f2 = fbeta_score(y_test, y_test_pred, beta=2)\n",
    "\n",
    "    results[clf_name] = {\n",
    "        'Train Accuracy': train_accuracy,\n",
    "        'Test Accuracy': test_accuracy,\n",
    "        'Train Precision': train_precision,\n",
    "        'Test Precision': test_precision,\n",
    "        'Train Recall': train_recall,\n",
    "        'Test Recall': test_recall,\n",
    "        'Train F1-Score': train_f1,\n",
    "        'Test F1-Score': test_f1,\n",
    "        'Train F2-Score': train_f2,\n",
    "        'Test F2-Score': test_f2\n",
    "    }\n",
    "\n",
    "# Create a table for evaluation metrics\n",
    "metrics_table = pd.DataFrame(results).T\n",
    "\n",
    "print(\"Evaluation Metrics (Training and Test Data with Random Undersampling):\")\n",
    "print(metrics_table)\n",
    "\n"
   ]
  },
  {
   "cell_type": "markdown",
   "metadata": {
    "id": "bqYf5I9vNoQF"
   },
   "source": [
    "*  Now we selected Random forest with SMOTE balancing has some higher performance"
   ]
  },
  {
   "cell_type": "markdown",
   "metadata": {
    "id": "gFhxu0WcO8ih"
   },
   "source": [
    "### Cost sensitive learning to improve F1 score - weighted response"
   ]
  },
  {
   "cell_type": "code",
   "execution_count": 13,
   "metadata": {
    "colab": {
     "base_uri": "https://localhost:8080/"
    },
    "id": "nG3NIWarO7TF",
    "outputId": "66b8c179-c184-43b6-92da-db99dda86d5a"
   },
   "outputs": [
    {
     "name": "stdout",
     "output_type": "stream",
     "text": [
      "Results:\n",
      "     Metric  Train      Test\n",
      "0  Accuracy    1.0  0.909293\n",
      "1  F1-Score    1.0  0.068361\n",
      "2  F2-Score    1.0  0.057202\n"
     ]
    }
   ],
   "source": [
    "# Apply SMOTE to balance the training set\n",
    "smote = SMOTE(random_state=42)\n",
    "X_train_resampled, y_train_resampled = smote.fit_resample(X_train, y_train)\n",
    "\n",
    "# Create a Random Forest classifier with class weights\n",
    "class_weights = {0: 1, 1: 1000}  # You can adjust the weight for each class as needed\n",
    "rf_classifier = RandomForestClassifier(random_state=42, class_weight=class_weights)\n",
    "\n",
    "# Fit the model to your resampled training data\n",
    "rf_classifier.fit(X_train_resampled, y_train_resampled)\n",
    "\n",
    "# Make predictions on both train and test data\n",
    "y_train_pred = rf_classifier.predict(X_train_resampled)\n",
    "y_test_pred = rf_classifier.predict(X_test)\n",
    "\n",
    "# Calculate accuracy, F1, and F2 scores for both train and test sets\n",
    "accuracy_train = accuracy_score(y_train_resampled, y_train_pred)\n",
    "f1_train = f1_score(y_train_resampled, y_train_pred)\n",
    "f2_train = fbeta_score(y_train_resampled, y_train_pred, beta=2)\n",
    "\n",
    "accuracy_test = accuracy_score(y_test, y_test_pred)\n",
    "f1_test = f1_score(y_test, y_test_pred)\n",
    "f2_test = fbeta_score(y_test, y_test_pred, beta=2)\n",
    "\n",
    "# Create a table for the results\n",
    "results_table = pd.DataFrame({\n",
    "    'Metric': ['Accuracy', 'F1-Score', 'F2-Score'],\n",
    "    'Train': [accuracy_train, f1_train, f2_train],\n",
    "    'Test': [accuracy_test, f1_test, f2_test]\n",
    "})\n",
    "\n",
    "print(\"Results:\")\n",
    "print(results_table)\n"
   ]
  },
  {
   "cell_type": "markdown",
   "metadata": {
    "id": "LQN_am4DOfJL"
   },
   "source": [
    "### Fit SVM -  Balanced dataset(SMOTE)"
   ]
  },
  {
   "cell_type": "code",
   "execution_count": null,
   "metadata": {
    "id": "PhBsINklPurg"
   },
   "outputs": [],
   "source": [
    "from sklearn.svm import SVC\n",
    "from sklearn.metrics import accuracy_score, precision_score, recall_score, f1_score, fbeta_score\n",
    "from imblearn.over_sampling import SMOTE\n",
    "from sklearn.model_selection import train_test_split\n",
    "\n",
    "# Apply SMOTE to balance the training set\n",
    "smote = SMOTE(random_state=42)\n",
    "X_train_resampled, y_train_resampled = smote.fit_resample(X_train, y_train)\n",
    "\n",
    "# Create an SVM classifier\n",
    "svm_classifier = SVC()\n",
    "\n",
    "# Fit the SVM model to the resampled training data\n",
    "svm_classifier.fit(X_train_resampled, y_train_resampled)\n",
    "\n",
    "# Make predictions on both train and test data\n",
    "y_train_pred = svm_classifier.predict(X_train_resampled)\n",
    "y_test_pred = svm_classifier.predict(X_test)\n",
    "\n",
    "# Calculate accuracy, precision, recall, F1, and F2 scores for training data\n",
    "accuracy_train = accuracy_score(y_train_resampled, y_train_pred)\n",
    "precision_train = precision_score(y_train_resampled, y_train_pred)\n",
    "recall_train = recall_score(y_train_resampled, y_train_pred)\n",
    "f1_train = f1_score(y_train_resampled, y_train_pred)\n",
    "f2_train = fbeta_score(y_train_resampled, y_train_pred, beta=2)\n",
    "\n",
    "# Calculate accuracy, precision, recall, F1, and F2 scores for test data\n",
    "accuracy_test = accuracy_score(y_test, y_test_pred)\n",
    "precision_test = precision_score(y_test, y_test_pred)\n",
    "recall_test = recall_score(y_test, y_test_pred)\n",
    "f1_test = f1_score(y_test, y_test_pred)\n",
    "f2_test = fbeta_score(y_test, y_test_pred, beta=2)\n",
    "\n",
    "# Create a table for the results\n",
    "results_table = pd.DataFrame({\n",
    "    'Metric': ['Accuracy', 'Precision', 'Recall', 'F1-Score', 'F2-Score'],\n",
    "    'Training Data': [accuracy_train, precision_train, recall_train, f1_train, f2_train],\n",
    "    'Test Data': [accuracy_test, precision_test, recall_test, f1_test, f2_test]\n",
    "})\n",
    "\n",
    "print(\"Results:\")\n",
    "print(results_table)\n"
   ]
  },
  {
   "cell_type": "markdown",
   "metadata": {
    "id": "rAMhpdcbQ_dZ"
   },
   "source": [
    "### Fit  models with hyper parameter tuning"
   ]
  },
  {
   "cell_type": "code",
   "execution_count": 12,
   "metadata": {},
   "outputs": [],
   "source": [
    "import pandas as pd\n",
    "from sklearn.ensemble import RandomForestClassifier\n",
    "from sklearn.model_selection import train_test_split, GridSearchCV\n",
    "from sklearn.metrics import accuracy_score, precision_score, recall_score, f1_score, fbeta_score\n",
    "from imblearn.over_sampling import SMOTE"
   ]
  },
  {
   "cell_type": "code",
   "execution_count": null,
   "metadata": {
    "colab": {
     "base_uri": "https://localhost:8080/",
     "height": 405
    },
    "id": "paZjeEpcRGat",
    "outputId": "be3e10cd-996e-4653-ffdd-6c7297911731"
   },
   "outputs": [],
   "source": [
    "import pandas as pd\n",
    "from sklearn.ensemble import RandomForestClassifier\n",
    "from sklearn.model_selection import train_test_split, GridSearchCV\n",
    "from sklearn.metrics import accuracy_score, precision_score, recall_score, f1_score, fbeta_score\n",
    "from imblearn.over_sampling import SMOTE\n",
    "\n",
    "# Apply SMOTE to balance the training set\n",
    "smote = SMOTE(random_state=42)\n",
    "X_train_resampled, y_train_resampled = smote.fit_resample(X_train, y_train)\n",
    "\n",
    "# Define hyperparameters for Random Forest\n",
    "param_grid = {\n",
    "    'n_estimators': [100, 200, 300],\n",
    "    'max_depth': [None, 10, 20],\n",
    "    'min_samples_split': [2, 5, 10],\n",
    "    'min_samples_leaf': [1, 2, 4]\n",
    "    #'class_weight': [{0: 1, 1: 10}, {0: 1, 1: 15}]  # You can adjust class weights as needed\n",
    "}\n",
    "\n",
    "# Create a Random Forest classifier\n",
    "rf_classifier = RandomForestClassifier(random_state=42)\n",
    "\n",
    "# Perform hyperparameter tuning using GridSearchCV\n",
    "grid_search = GridSearchCV(estimator=rf_classifier, param_grid=param_grid, scoring='accuracy', cv=3, n_jobs=-1)\n",
    "grid_search.fit(X_train_resampled, y_train_resampled)\n",
    "\n",
    "# Get the best estimator from the hyperparameter tuning\n",
    "best_rf_classifier = grid_search.best_estimator_\n",
    "\n",
    "# Make predictions on both train and test data\n",
    "y_train_pred = best_rf_classifier.predict(X_train_resampled)\n",
    "y_test_pred = best_rf_classifier.predict(X_test)\n",
    "\n",
    "# Calculate accuracy, precision, recall, F1, and F2 scores for training data\n",
    "accuracy_train = accuracy_score(y_train_resampled, y_train_pred)\n",
    "precision_train = precision_score(y_train_resampled, y_train_pred)\n",
    "recall_train = recall_score(y_train_resampled, y_train_pred)\n",
    "f1_train = f1_score(y_train_resampled, y_train_pred)\n",
    "f2_train = fbeta_score(y_train_resampled, y_train_pred, beta=2)\n",
    "\n",
    "# Calculate accuracy, precision, recall, F1, and F2 scores for test data\n",
    "accuracy_test = accuracy_score(y_test, y_test_pred)\n",
    "precision_test = precision_score(y_test, y_test_pred)\n",
    "recall_test = recall_score(y_test, y_test_pred)\n",
    "f1_test = f1_score(y_test, y_test_pred)\n",
    "f2_test = fbeta_score(y_test, y_test_pred, beta=2)\n",
    "\n",
    "# Create a table for the results\n",
    "results_table = pd.DataFrame({\n",
    "    'Metric': ['Accuracy', 'Precision', 'Recall', 'F1-Score', 'F2-Score'],\n",
    "    'Training Data': [accuracy_train, precision_train, recall_train, f1_train, f2_train],\n",
    "    'Test Data': [accuracy_test, precision_test, recall_test, f1_test, f2_test]\n",
    "})\n",
    "\n",
    "print(\"Results:\")\n",
    "print(results_table)\n"
   ]
  },
  {
   "cell_type": "markdown",
   "metadata": {},
   "source": [
    "### Get feature Importance from Random Forest model"
   ]
  },
  {
   "cell_type": "code",
   "execution_count": 10,
   "metadata": {},
   "outputs": [
    {
     "name": "stdout",
     "output_type": "stream",
     "text": [
      "Top 15 Features:\n",
      "                          Feature  Importance\n",
      "36                  policy_tenure    0.398709\n",
      "38            age_of_policyholder    0.249942\n",
      "37                     age_of_car    0.184341\n",
      "0              population_density    0.139641\n",
      "4                    gross_weight    0.002379\n",
      "2                          length    0.002337\n",
      "3                          height    0.002214\n",
      "44          no_of_safety_measures    0.002069\n",
      "1                           width    0.002059\n",
      "42                 turning_radius    0.002023\n",
      "28  engine_type_F8D Petrol Engine    0.001535\n",
      "43                    ncap_rating    0.001343\n",
      "35                     is_ecw_Yes    0.001103\n",
      "41                     cylinder.1    0.000944\n",
      "40                       cylinder    0.000786\n"
     ]
    },
    {
     "data": {
      "image/png": "[encoded data removed]",
      "text/plain": [
       "<Figure size 1200x600 with 1 Axes>"
      ]
     },
     "metadata": {},
     "output_type": "display_data"
    }
   ],
   "source": [
    "from sklearn.feature_selection import SelectFromModel\n",
    "import matplotlib.pyplot as plt\n",
    "from imblearn.over_sampling import SMOTE\n",
    "\n",
    "# Apply SMOTE to balance the training set\n",
    "smote = SMOTE(random_state=42)\n",
    "X_train_resampled, y_train_resampled = smote.fit_resample(X_train, y_train)\n",
    "\n",
    "# Create a Random Forest classifier with tuned hyperparameters\n",
    "rf_classifier = RandomForestClassifier(\n",
    "    n_estimators=200,  # Your chosen value\n",
    "    max_depth=None,    # Your chosen value\n",
    "    min_samples_split=5,  # Your chosen value\n",
    "    min_samples_leaf=10,   # Your chosen value\n",
    "    #class_weight={0: 1, 1: 100},\n",
    "    random_state=42\n",
    ")\n",
    "\n",
    "# Fit the model to your resampled training data\n",
    "#rf_classifier.fit(X_train_resampled, y_train_resampled)\n",
    "rf_classifier.fit(X_train, y_train)\n",
    "\n",
    "# Get feature importances\n",
    "feature_importances = rf_classifier.feature_importances_\n",
    "\n",
    "# Create a DataFrame to store feature names and their importances\n",
    "feature_importance_df = pd.DataFrame({\n",
    "    'Feature': X_train.columns,\n",
    "    'Importance': feature_importances\n",
    "})\n",
    "\n",
    "# Sort the DataFrame by importance in descending order\n",
    "feature_importance_df = feature_importance_df.sort_values(by='Importance', ascending=False)\n",
    "\n",
    "# Display the top 15 features and their importances as a table\n",
    "top_15_features = feature_importance_df.head(15)\n",
    "print(\"Top 15 Features:\")\n",
    "print(top_15_features)\n",
    "\n",
    "# Create a bar graph to visualize the top 15 features\n",
    "plt.figure(figsize=(12, 6))\n",
    "plt.barh(top_15_features['Feature'], top_15_features['Importance'], color='skyblue')\n",
    "plt.xlabel('Importance')\n",
    "plt.ylabel('Feature')\n",
    "plt.title('Top 15 Feature Importances')\n",
    "plt.gca().invert_yaxis()  # Invert the y-axis to display the most important feature at the top\n",
    "plt.show()\n"
   ]
  },
  {
   "cell_type": "markdown",
   "metadata": {},
   "source": [
    "### Fit model again with 5 important  features (By RF feature Importance)"
   ]
  },
  {
   "cell_type": "markdown",
   "metadata": {},
   "source": [
    "### 1. Random forest (Tuned)"
   ]
  },
  {
   "cell_type": "code",
   "execution_count": 13,
   "metadata": {},
   "outputs": [
    {
     "name": "stdout",
     "output_type": "stream",
     "text": [
      "Results with Top 5 Features:\n",
      "      Metric  Training Data  Test Data\n",
      "0   Accuracy       0.970648   0.908866\n",
      "1  Precision       0.989686   0.093750\n",
      "2     Recall       0.951209   0.047619\n",
      "3   F1-Score       0.970066   0.063158\n",
      "4   F2-Score       0.958663   0.052817\n"
     ]
    }
   ],
   "source": [
    "# Get feature importances\n",
    "feature_importances = rf_classifier.feature_importances_\n",
    "\n",
    "# Create a DataFrame to store feature names and their importances\n",
    "feature_importance_df = pd.DataFrame({\n",
    "    'Feature': X_train.columns,\n",
    "    'Importance': feature_importances\n",
    "})\n",
    "\n",
    "# Sort the DataFrame by importance in descending order\n",
    "feature_importance_df = feature_importance_df.sort_values(by='Importance', ascending=False)\n",
    "\n",
    "# Select the top 5 features\n",
    "top_5_features = feature_importance_df.head(5)\n",
    "\n",
    "# Create new DataFrames with only the top 5 features\n",
    "X_train_top5 = X_train_resampled[top_5_features['Feature']]\n",
    "X_test_top5 = X_test[top_5_features['Feature']]\n",
    "\n",
    "# Create a new Random Forest classifier with the top 5 features\n",
    "rf_classifier_top5 = RandomForestClassifier(\n",
    "    n_estimators=200,\n",
    "    max_depth=None , \n",
    "    min_samples_split=10,\n",
    "    min_samples_leaf=5,\n",
    "    class_weight='balanced',\n",
    "    random_state=42\n",
    ")\n",
    "\n",
    "# Fit the model to the training data with the top 5 features\n",
    "rf_classifier_top5.fit(X_train_top5, y_train_resampled)\n",
    "\n",
    "# Make predictions on both train and test data\n",
    "y_train_pred_top5 = rf_classifier_top5.predict(X_train_top5)\n",
    "y_test_pred_top5 = rf_classifier_top5.predict(X_test_top5)\n",
    "\n",
    "# Calculate accuracy, precision, recall, F1, and F2 scores for training data with top 5 features\n",
    "accuracy_train_top5 = accuracy_score(y_train_resampled, y_train_pred_top5)\n",
    "precision_train_top5 = precision_score(y_train_resampled, y_train_pred_top5)\n",
    "recall_train_top5 = recall_score(y_train_resampled, y_train_pred_top5)\n",
    "f1_train_top5 = f1_score(y_train_resampled, y_train_pred_top5)\n",
    "f2_train_top5 = fbeta_score(y_train_resampled, y_train_pred_top5, beta=2)\n",
    "\n",
    "# Calculate accuracy, precision, recall, F1, and F2 scores for test data with top 5 features\n",
    "accuracy_test_top5 = accuracy_score(y_test, y_test_pred_top5)\n",
    "precision_test_top5 = precision_score(y_test, y_test_pred_top5)\n",
    "recall_test_top5 = recall_score(y_test, y_test_pred_top5)\n",
    "f1_test_top5 = f1_score(y_test, y_test_pred_top5)\n",
    "f2_test_top5 = fbeta_score(y_test, y_test_pred_top5, beta=2)\n",
    "\n",
    "# Create a table for the results with top 5 features\n",
    "results_table_top5 = pd.DataFrame({\n",
    "    'Metric': ['Accuracy', 'Precision', 'Recall', 'F1-Score', 'F2-Score'],\n",
    "    'Training Data': [accuracy_train_top5, precision_train_top5, recall_train_top5, f1_train_top5, f2_train_top5],\n",
    "    'Test Data': [accuracy_test_top5, precision_test_top5, recall_test_top5, f1_test_top5, f2_test_top5]\n",
    "})\n",
    "\n",
    "print(\"Results with Top 5 Features:\")\n",
    "print(results_table_top5)"
   ]
  },
  {
   "cell_type": "markdown",
   "metadata": {},
   "source": [
    "### 2. Logistic(Tuned)"
   ]
  },
  {
   "cell_type": "code",
   "execution_count": 36,
   "metadata": {},
   "outputs": [
    {
     "name": "stdout",
     "output_type": "stream",
     "text": [
      "Results with Lasso Logistic Regression and Top 5 Features:\n",
      "      Metric  Training Data  Test Data\n",
      "0   Accuracy       0.581265   0.567113\n",
      "1  Precision       0.577779   0.081605\n",
      "2     Recall       0.603678   0.556878\n",
      "3   F1-Score       0.590445   0.142350\n",
      "4   F2-Score       0.598314   0.257241\n"
     ]
    }
   ],
   "source": [
    "# Get feature importances\n",
    "feature_importances = rf_classifier.feature_importances_\n",
    "\n",
    "# Create a DataFrame to store feature names and their importances\n",
    "feature_importance_df = pd.DataFrame({\n",
    "    'Feature': X_train.columns,\n",
    "    'Importance': feature_importances\n",
    "})\n",
    "\n",
    "# Sort the DataFrame by importance in descending order\n",
    "feature_importance_df = feature_importance_df.sort_values(by='Importance', ascending=False)\n",
    "\n",
    "# Select the top 5 features\n",
    "top_5_features = feature_importance_df.head(5)\n",
    "\n",
    "# Create new DataFrames with only the top 5 features\n",
    "X_train_top5 = X_train_resampled[top_5_features['Feature']]\n",
    "X_test_top5 = X_test[top_5_features['Feature']]\n",
    "\n",
    "\n",
    "# Create a Lasso Logistic Regression classifier\n",
    "lasso_logistic = LogisticRegression(penalty='l2', solver='liblinear', random_state=42)\n",
    "\n",
    "# Fit the model to the training data with the top 5 features\n",
    "lasso_logistic.fit(X_train_top5, y_train_resampled)\n",
    "\n",
    "# Make predictions on both train and test data\n",
    "y_train_pred = lasso_logistic.predict(X_train_top5)\n",
    "y_test_pred = lasso_logistic.predict(X_test_top5)\n",
    "\n",
    "# Calculate accuracy, precision, recall, F1, and F2 scores for training data\n",
    "accuracy_train = accuracy_score(y_train_resampled, y_train_pred)\n",
    "precision_train = precision_score(y_train_resampled, y_train_pred)\n",
    "recall_train = recall_score(y_train_resampled, y_train_pred)\n",
    "f1_train = f1_score(y_train_resampled, y_train_pred)\n",
    "f2_train = fbeta_score(y_train_resampled, y_train_pred, beta=2)\n",
    "\n",
    "# Calculate accuracy, precision, recall, F1, and F2 scores for test data\n",
    "accuracy_test = accuracy_score(y_test, y_test_pred)\n",
    "precision_test = precision_score(y_test, y_test_pred)\n",
    "recall_test = recall_score(y_test, y_test_pred)\n",
    "f1_test = f1_score(y_test, y_test_pred)\n",
    "f2_test = fbeta_score(y_test, y_test_pred, beta=2)\n",
    "\n",
    "# Create a table for the results\n",
    "results_table = pd.DataFrame({\n",
    "    'Metric': ['Accuracy', 'Precision', 'Recall', 'F1-Score', 'F2-Score'],\n",
    "    'Training Data': [accuracy_train, precision_train, recall_train, f1_train, f2_train],\n",
    "    'Test Data': [accuracy_test, precision_test, recall_test, f1_test, f2_test]\n",
    "})\n",
    "\n",
    "print(\"Results with Lasso Logistic Regression and Top 5 Features:\")\n",
    "print(results_table)"
   ]
  },
  {
   "cell_type": "markdown",
   "metadata": {},
   "source": [
    "### 3. Naive Bayes"
   ]
  },
  {
   "cell_type": "code",
   "execution_count": 37,
   "metadata": {},
   "outputs": [
    {
     "name": "stdout",
     "output_type": "stream",
     "text": [
      "Results with Gaussian Naive Bayes and Top 5 Features:\n",
      "      Metric  Training Data  Test Data\n",
      "0   Accuracy       0.589834   0.528629\n",
      "1  Precision       0.578557   0.080134\n",
      "2     Recall       0.661608   0.601852\n",
      "3   F1-Score       0.617302   0.141436\n",
      "4   F2-Score       0.643143   0.261434\n"
     ]
    }
   ],
   "source": [
    "# Create a Gaussian Naive Bayes classifier\n",
    "naive_bayes_classifier = GaussianNB()\n",
    "\n",
    "# Fit the model to the training data with the top 5 features\n",
    "naive_bayes_classifier.fit(X_train_top5, y_train_resampled)\n",
    "\n",
    "# Make predictions on both train and test data\n",
    "y_train_pred = naive_bayes_classifier.predict(X_train_top5)\n",
    "y_test_pred = naive_bayes_classifier.predict(X_test_top5)\n",
    "\n",
    "# Calculate accuracy, precision, recall, F1, and F2 scores for training data\n",
    "accuracy_train = accuracy_score(y_train_resampled, y_train_pred)\n",
    "precision_train = precision_score(y_train_resampled, y_train_pred)\n",
    "recall_train = recall_score(y_train_resampled, y_train_pred)\n",
    "f1_train = f1_score(y_train_resampled, y_train_pred)\n",
    "f2_train = fbeta_score(y_train_resampled, y_train_pred, beta=2)\n",
    "\n",
    "# Calculate accuracy, precision, recall, F1, and F2 scores for test data\n",
    "accuracy_test = accuracy_score(y_test, y_test_pred)\n",
    "precision_test = precision_score(y_test, y_test_pred)\n",
    "recall_test = recall_score(y_test, y_test_pred)\n",
    "f1_test = f1_score(y_test, y_test_pred)\n",
    "f2_test = fbeta_score(y_test, y_test_pred, beta=2)\n",
    "\n",
    "# Create a table for the results\n",
    "results_table = pd.DataFrame({\n",
    "    'Metric': ['Accuracy', 'Precision', 'Recall', 'F1-Score', 'F2-Score'],\n",
    "    'Training Data': [accuracy_train, precision_train, recall_train, f1_train, f2_train],\n",
    "    'Test Data': [accuracy_test, precision_test, recall_test, f1_test, f2_test]\n",
    "})\n",
    "\n",
    "print(\"Results with Gaussian Naive Bayes and Top 5 Features:\")\n",
    "print(results_table)"
   ]
  },
  {
   "cell_type": "markdown",
   "metadata": {},
   "source": [
    "### 4.Xgboost model (Tuned)"
   ]
  },
  {
   "cell_type": "code",
   "execution_count": 40,
   "metadata": {},
   "outputs": [
    {
     "name": "stdout",
     "output_type": "stream",
     "text": [
      "Results with Tuned XGBoost and Top 5 Features:\n",
      "      Metric  Training Data  Test Data\n",
      "0   Accuracy       0.964130   0.934209\n",
      "1  Precision       0.999387   0.105263\n",
      "2     Recall       0.928830   0.002646\n",
      "3   F1-Score       0.962818   0.005161\n",
      "4   F2-Score       0.942133   0.003286\n"
     ]
    }
   ],
   "source": [
    "import xgboost as xgb\n",
    "from sklearn.model_selection import GridSearchCV\n",
    "# Define a parameter grid for tuning\n",
    "param_grid = {\n",
    "    'n_estimators': [100, 200, 300],\n",
    "    'max_depth': [3, 4, 5],\n",
    "    'learning_rate': [0.01, 0.1, 0.2],\n",
    "    'subsample': [0.8, 0.9, 1.0],\n",
    "    'colsample_bytree': [0.8, 0.9, 1.0],\n",
    "}\n",
    "\n",
    "# Create an XGBoost classifier\n",
    "xgb_classifier = xgb.XGBClassifier(random_state=42)\n",
    "\n",
    "# Perform Grid Search CV for hyperparameter tuning\n",
    "grid_search = GridSearchCV(xgb_classifier, param_grid, cv=3, scoring='f1', n_jobs=-1)\n",
    "grid_search.fit(X_train_top5, y_train_resampled)\n",
    "\n",
    "# Get the best estimator from the grid search\n",
    "best_xgb_classifier = grid_search.best_estimator_\n",
    "\n",
    "# Fit the best model to the training data with the top 5 features\n",
    "best_xgb_classifier.fit(X_train_top5, y_train_resampled)\n",
    "\n",
    "# Make predictions on both train and test data\n",
    "y_train_pred = best_xgb_classifier.predict(X_train_top5)\n",
    "y_test_pred = best_xgb_classifier.predict(X_test_top5)\n",
    "\n",
    "# Calculate accuracy, precision, recall, F1, and F2 scores for training data\n",
    "accuracy_train = accuracy_score(y_train_resampled, y_train_pred)\n",
    "precision_train = precision_score(y_train_resampled, y_train_pred)\n",
    "recall_train = recall_score(y_train_resampled, y_train_pred)\n",
    "f1_train = f1_score(y_train_resampled, y_train_pred)\n",
    "f2_train = fbeta_score(y_train_resampled, y_train_pred, beta=2)\n",
    "\n",
    "# Calculate accuracy, precision, recall, F1, and F2 scores for test data\n",
    "accuracy_test = accuracy_score(y_test, y_test_pred)\n",
    "precision_test = precision_score(y_test, y_test_pred)\n",
    "recall_test = recall_score(y_test, y_test_pred)\n",
    "f1_test = f1_score(y_test, y_test_pred)\n",
    "f2_test = fbeta_score(y_test, y_test_pred, beta=2)\n",
    "\n",
    "# Create a table for the results\n",
    "results_table = pd.DataFrame({\n",
    "    'Metric': ['Accuracy', 'Precision', 'Recall', 'F1-Score', 'F2-Score'],\n",
    "    'Training Data': [accuracy_train, precision_train, recall_train, f1_train, f2_train],\n",
    "    'Test Data': [accuracy_test, precision_test, recall_test, f1_test, f2_test]\n",
    "})\n",
    "\n",
    "print(\"Results with Tuned XGBoost and Top 5 Features:\")\n",
    "print(results_table)\n",
    " \n",
    "\n",
    "\n",
    "\n"
   ]
  },
  {
   "cell_type": "code",
   "execution_count": 41,
   "metadata": {},
   "outputs": [
    {
     "name": "stdout",
     "output_type": "stream",
     "text": [
      "XGBClassifier(base_score=None, booster=None, callbacks=None,\n",
      "              colsample_bylevel=None, colsample_bynode=None,\n",
      "              colsample_bytree=1.0, early_stopping_rounds=None,\n",
      "              enable_categorical=False, eval_metric=None, feature_types=None,\n",
      "              gamma=None, gpu_id=None, grow_policy=None, importance_type=None,\n",
      "              interaction_constraints=None, learning_rate=0.2, max_bin=None,\n",
      "              max_cat_threshold=None, max_cat_to_onehot=None,\n",
      "              max_delta_step=None, max_depth=5, max_leaves=None,\n",
      "              min_child_weight=None, missing=nan, monotone_constraints=None,\n",
      "              n_estimators=300, n_jobs=None, num_parallel_tree=None,\n",
      "              predictor=None, random_state=42, ...)\n"
     ]
    }
   ],
   "source": [
    "print(best_xgb_classifier)"
   ]
  },
  {
   "cell_type": "markdown",
   "metadata": {},
   "source": [
    "### Ensemble modeling (XGB, Logistic, RF)"
   ]
  },
  {
   "cell_type": "code",
   "execution_count": 61,
   "metadata": {},
   "outputs": [
    {
     "name": "stdout",
     "output_type": "stream",
     "text": [
      "Results with Ensemble Model (Hard Voting):\n",
      "      Metric  Training Data  Test Data\n",
      "0   Accuracy       0.890864   0.920130\n",
      "1  Precision       0.979588   0.137097\n",
      "2     Recall       0.798364   0.044974\n",
      "3   F1-Score       0.879740   0.067729\n",
      "4   F2-Score       0.829038   0.051956\n"
     ]
    }
   ],
   "source": [
    "from sklearn.ensemble import RandomForestClassifier, VotingClassifier\n",
    "# Define tuned parameters for each classifier\n",
    "rf_params = {\n",
    "    'n_estimators': 200,\n",
    "    'max_depth': 10,\n",
    "    'min_samples_split': 2,\n",
    "    'min_samples_leaf': 1,\n",
    "    'class_weight': 'balanced',\n",
    "    #'class_weight': {0: 1, 1: 20},\n",
    "    'random_state': 42\n",
    "}\n",
    "\n",
    "xgb_params = {\n",
    "    'n_estimators': 200,\n",
    "    'max_depth': 4,\n",
    "    'learning_rate': 0.1,\n",
    "    'subsample': 0.9,\n",
    "    'colsample_bytree': 0.8,\n",
    "    #'scale_pos_weight': 20,\n",
    "    'random_state': 42\n",
    "}\n",
    "\n",
    "\n",
    "# Create classifiers with tuned parameters\n",
    "rf_classifier = RandomForestClassifier(**rf_params)\n",
    "xgb_classifier = XGBClassifier(**xgb_params)\n",
    "#logistic_classifier = LogisticRegression(**logistic_params)\n",
    "\n",
    "# Create an ensemble model using hard voting\n",
    "ensemble_classifier = VotingClassifier(\n",
    "    estimators=[\n",
    "        ('rf', rf_classifier),\n",
    "        ('xgb', xgb_classifier),\n",
    "        #('logistic', logistic_classifier)\n",
    "    ],\n",
    "    voting='hard'\n",
    ")\n",
    "\n",
    "# Fit the ensemble model to the training data with the top 5 features\n",
    "ensemble_classifier.fit(X_train_top5, y_train_resampled)\n",
    "\n",
    "# Make predictions on both train and test data with the ensemble model\n",
    "y_train_pred_ensemble = ensemble_classifier.predict(X_train_top5)\n",
    "y_test_pred_ensemble = ensemble_classifier.predict(X_test_top5)\n",
    "\n",
    "# Calculate accuracy, precision, recall, F1, and F2 scores for training data\n",
    "accuracy_train_ensemble = accuracy_score(y_train_resampled, y_train_pred_ensemble)\n",
    "precision_train_ensemble = precision_score(y_train_resampled, y_train_pred_ensemble)\n",
    "recall_train_ensemble = recall_score(y_train_resampled, y_train_pred_ensemble)\n",
    "f1_train_ensemble = f1_score(y_train_resampled, y_train_pred_ensemble)\n",
    "f2_train_ensemble = fbeta_score(y_train_resampled, y_train_pred_ensemble, beta=2)\n",
    "\n",
    "# Calculate accuracy, precision, recall, F1, and F2 scores for test data\n",
    "accuracy_test_ensemble = accuracy_score(y_test, y_test_pred_ensemble)\n",
    "precision_test_ensemble = precision_score(y_test, y_test_pred_ensemble)\n",
    "recall_test_ensemble = recall_score(y_test, y_test_pred_ensemble)\n",
    "f1_test_ensemble = f1_score(y_test, y_test_pred_ensemble)\n",
    "f2_test_ensemble = fbeta_score(y_test, y_test_pred_ensemble, beta=2)\n",
    "\n",
    "# Create a table for the results\n",
    "results_table = pd.DataFrame({\n",
    "    'Metric': ['Accuracy', 'Precision', 'Recall', 'F1-Score', 'F2-Score'],\n",
    "    'Training Data': [accuracy_train_ensemble, precision_train_ensemble, recall_train_ensemble, f1_train_ensemble, f2_train_ensemble],\n",
    "    'Test Data': [accuracy_test_ensemble, precision_test_ensemble, recall_test_ensemble, f1_test_ensemble, f2_test_ensemble]\n",
    "})\n",
    "\n",
    "print(\"Results with Ensemble Model (Hard Voting):\")\n",
    "print(results_table)\n"
   ]
  },
  {
   "cell_type": "code",
   "execution_count": 64,
   "metadata": {},
   "outputs": [
    {
     "name": "stdout",
     "output_type": "stream",
     "text": [
      "Results with Ensemble Model (soft Voting):\n",
      "      Metric  Training Data  Test Data\n",
      "0   Accuracy       0.930938   0.912706\n",
      "1  Precision       0.970749   0.140162\n",
      "2     Recall       0.888653   0.068783\n",
      "3   F1-Score       0.927889   0.092280\n",
      "4   F2-Score       0.903943   0.076583\n"
     ]
    }
   ],
   "source": [
    "from sklearn.ensemble import RandomForestClassifier, VotingClassifier\n",
    "# Define tuned parameters for each classifier\n",
    "rf_params = {\n",
    "    'n_estimators': 200,\n",
    "    'max_depth': 10,\n",
    "    'min_samples_split': 2,\n",
    "    'min_samples_leaf': 1,\n",
    "    'class_weight': 'balanced',\n",
    "    #'class_weight': {0: 1, 1: 20},\n",
    "    'random_state': 42\n",
    "}\n",
    "\n",
    "xgb_params = {\n",
    "    'n_estimators': 200,\n",
    "    'max_depth': 4,\n",
    "    'learning_rate': 0.1,\n",
    "    'subsample': 0.9,\n",
    "    'colsample_bytree': 0.8,\n",
    "    #'scale_pos_weight': 20,\n",
    "    'random_state': 42\n",
    "}\n",
    "\n",
    "\n",
    "# Create classifiers with tuned parameters\n",
    "rf_classifier = RandomForestClassifier(**rf_params)\n",
    "xgb_classifier = XGBClassifier(**xgb_params)\n",
    "#logistic_classifier = LogisticRegression(**logistic_params)\n",
    "\n",
    "# Create an ensemble model using hard voting\n",
    "ensemble_classifier = VotingClassifier(\n",
    "    estimators=[\n",
    "        ('rf', rf_classifier),\n",
    "        ('xgb', xgb_classifier),\n",
    "        #('logistic', logistic_classifier)\n",
    "    ],\n",
    "    voting='soft'\n",
    ")\n",
    "\n",
    "# Fit the ensemble model to the training data with the top 5 features\n",
    "ensemble_classifier.fit(X_train_top5, y_train_resampled)\n",
    "\n",
    "# Make predictions on both train and test data with the ensemble model\n",
    "y_train_pred_ensemble = ensemble_classifier.predict(X_train_top5)\n",
    "y_test_pred_ensemble = ensemble_classifier.predict(X_test_top5)\n",
    "\n",
    "# Calculate accuracy, precision, recall, F1, and F2 scores for training data\n",
    "accuracy_train_ensemble = accuracy_score(y_train_resampled, y_train_pred_ensemble)\n",
    "precision_train_ensemble = precision_score(y_train_resampled, y_train_pred_ensemble)\n",
    "recall_train_ensemble = recall_score(y_train_resampled, y_train_pred_ensemble)\n",
    "f1_train_ensemble = f1_score(y_train_resampled, y_train_pred_ensemble)\n",
    "f2_train_ensemble = fbeta_score(y_train_resampled, y_train_pred_ensemble, beta=2)\n",
    "\n",
    "# Calculate accuracy, precision, recall, F1, and F2 scores for test data\n",
    "accuracy_test_ensemble = accuracy_score(y_test, y_test_pred_ensemble)\n",
    "precision_test_ensemble = precision_score(y_test, y_test_pred_ensemble)\n",
    "recall_test_ensemble = recall_score(y_test, y_test_pred_ensemble)\n",
    "f1_test_ensemble = f1_score(y_test, y_test_pred_ensemble)\n",
    "f2_test_ensemble = fbeta_score(y_test, y_test_pred_ensemble, beta=2)\n",
    "\n",
    "# Create a table for the results\n",
    "results_table = pd.DataFrame({\n",
    "    'Metric': ['Accuracy', 'Precision', 'Recall', 'F1-Score', 'F2-Score'],\n",
    "    'Training Data': [accuracy_train_ensemble, precision_train_ensemble, recall_train_ensemble, f1_train_ensemble, f2_train_ensemble],\n",
    "    'Test Data': [accuracy_test_ensemble, precision_test_ensemble, recall_test_ensemble, f1_test_ensemble, f2_test_ensemble]\n",
    "})\n",
    "\n",
    "print(\"Results with Ensemble Model (soft Voting):\")\n",
    "print(results_table)\n"
   ]
  },
  {
   "cell_type": "markdown",
   "metadata": {},
   "source": [
    "### PDP for random forest model with only five variable mode"
   ]
  },
  {
   "cell_type": "code",
   "execution_count": 23,
   "metadata": {},
   "outputs": [
    {
     "ename": "AttributeError",
     "evalue": "module 'pdpbox.pdp' has no attribute 'pdp_isolate'",
     "output_type": "error",
     "traceback": [
      "\u001b[1;31m---------------------------------------------------------------------------\u001b[0m",
      "\u001b[1;31mAttributeError\u001b[0m                            Traceback (most recent call last)",
      "Cell \u001b[1;32mIn[23], line 19\u001b[0m\n\u001b[0;32m     16\u001b[0m feature_name \u001b[38;5;241m=\u001b[39m \u001b[38;5;124m'\u001b[39m\u001b[38;5;124myour_feature_name_here\u001b[39m\u001b[38;5;124m'\u001b[39m\n\u001b[0;32m     18\u001b[0m \u001b[38;5;66;03m# Calculate the PDP for the chosen feature\u001b[39;00m\n\u001b[1;32m---> 19\u001b[0m pdp_feature \u001b[38;5;241m=\u001b[39m \u001b[43mpdp\u001b[49m\u001b[38;5;241;43m.\u001b[39;49m\u001b[43mpdp_isolate\u001b[49m(model\u001b[38;5;241m=\u001b[39mrf_classifier, dataset\u001b[38;5;241m=\u001b[39mX_test_top5, model_features\u001b[38;5;241m=\u001b[39mX_test_top5\u001b[38;5;241m.\u001b[39mcolumns, feature\u001b[38;5;241m=\u001b[39mfeature_name)\n\u001b[0;32m     21\u001b[0m \u001b[38;5;66;03m# Create the PDP plot\u001b[39;00m\n\u001b[0;32m     22\u001b[0m pdp\u001b[38;5;241m.\u001b[39mpdp_plot(pdp_feature, feature_name)\n",
      "\u001b[1;31mAttributeError\u001b[0m: module 'pdpbox.pdp' has no attribute 'pdp_isolate'"
     ]
    }
   ],
   "source": [
    "import pandas as pd\n",
    "import numpy as np\n",
    "from sklearn.ensemble import RandomForestClassifier\n",
    "from pdpbox import pdp, info_plots\n",
    "import matplotlib.pyplot as plt\n",
    "\n",
    "# Load your original dataset\n",
    "# Assuming you have a DataFrame named 'data' with features and labels (X and y)\n",
    "\n",
    "# Fit a Random Forest model (you can use your tuned model)\n",
    "rf_classifier = RandomForestClassifier(n_estimators=200, max_depth=10, min_samples_split=2, min_samples_leaf=1, random_state=42)\n",
    "rf_classifier.fit(X_train_top5, y_train_resampled)\n",
    "\n",
    "# Choose the feature for which you want to create the PDP\n",
    "# Replace 'feature_name' with the actual name of the feature you want to plot\n",
    "feature_name = 'your_feature_name_here'\n",
    "\n",
    "# Calculate the PDP for the chosen feature\n",
    "pdp_feature = pdp.pdp_isolate(model=rf_classifier, dataset=X_test_top5, model_features=X_test_top5.columns, feature=feature_name)\n",
    "\n",
    "# Create the PDP plot\n",
    "pdp.pdp_plot(pdp_feature, feature_name)\n",
    "plt.xlabel(feature_name)\n",
    "plt.ylabel(\"Partial Dependence\")\n",
    "plt.title(f'Partial Dependence Plot for {feature_name}')\n",
    "plt.show()\n"
   ]
  },
  {
   "cell_type": "code",
   "execution_count": 15,
   "metadata": {},
   "outputs": [],
   "source": [
    "from sklearn.inspection import (partial_dependence, \n",
    "                                PartialDependenceDisplay)\n",
    "import matplotlib.pyplot as plt\n"
   ]
  },
  {
   "cell_type": "code",
   "execution_count": 25,
   "metadata": {},
   "outputs": [
    {
     "ename": "ModuleNotFoundError",
     "evalue": "No module named 'sklearn.ensemble.partial_dependence'",
     "output_type": "error",
     "traceback": [
      "\u001b[1;31m---------------------------------------------------------------------------\u001b[0m",
      "\u001b[1;31mModuleNotFoundError\u001b[0m                       Traceback (most recent call last)",
      "Cell \u001b[1;32mIn[25], line 1\u001b[0m\n\u001b[1;32m----> 1\u001b[0m \u001b[38;5;28;01mfrom\u001b[39;00m \u001b[38;5;21;01msklearn\u001b[39;00m\u001b[38;5;21;01m.\u001b[39;00m\u001b[38;5;21;01mensemble\u001b[39;00m\u001b[38;5;21;01m.\u001b[39;00m\u001b[38;5;21;01mpartial_dependence\u001b[39;00m \u001b[38;5;28;01mimport\u001b[39;00m partial_dependence, plot_partial_dependence\n\u001b[0;32m      2\u001b[0m \u001b[38;5;66;03m# scikit-learn originally implemented partial dependence plots only for Gradient Boosting models\u001b[39;00m\n\u001b[0;32m      3\u001b[0m \u001b[38;5;66;03m# this was due to an implementation detail, and a future release will support all model types.\u001b[39;00m\n\u001b[0;32m      4\u001b[0m \u001b[38;5;66;03m#my_model = GradientBoostingRegressor()\u001b[39;00m\n\u001b[0;32m      5\u001b[0m \u001b[38;5;66;03m# fit the model as usual\u001b[39;00m\n\u001b[0;32m      6\u001b[0m \u001b[38;5;66;03m#my_model.fit(X, y)\u001b[39;00m\n\u001b[0;32m      7\u001b[0m \u001b[38;5;66;03m# Here we make the plot\u001b[39;00m\n\u001b[0;32m      8\u001b[0m my_plots \u001b[38;5;241m=\u001b[39m plot_partial_dependence(rf_classifier_top5,       \n\u001b[0;32m      9\u001b[0m                                    features\u001b[38;5;241m=\u001b[39m[\u001b[38;5;241m0\u001b[39m,\u001b[38;5;241m1\u001b[39m,\u001b[38;5;241m2\u001b[39m,\u001b[38;5;241m3\u001b[39m,\u001b[38;5;241m4\u001b[39m], \u001b[38;5;66;03m# column numbers of plots we want to show\u001b[39;00m\n\u001b[0;32m     10\u001b[0m                                    X\u001b[38;5;241m=\u001b[39mX_train_top5,            \u001b[38;5;66;03m# raw predictors data.\u001b[39;00m\n\u001b[0;32m     11\u001b[0m                                    feature_names\u001b[38;5;241m=\u001b[39m[\u001b[38;5;124m'\u001b[39m\u001b[38;5;124mpolicy_tenure\u001b[39m\u001b[38;5;124m'\u001b[39m, \u001b[38;5;124m'\u001b[39m\u001b[38;5;124mage_of_policyholder\u001b[39m\u001b[38;5;124m'\u001b[39m, \u001b[38;5;124m'\u001b[39m\u001b[38;5;124mage_of_car\u001b[39m\u001b[38;5;124m'\u001b[39m,\u001b[38;5;124m'\u001b[39m\u001b[38;5;124mpopulation_density\u001b[39m\u001b[38;5;124m'\u001b[39m], \u001b[38;5;66;03m# labels on graphs\u001b[39;00m\n\u001b[0;32m     12\u001b[0m                                    grid_resolution\u001b[38;5;241m=\u001b[39m\u001b[38;5;241m10\u001b[39m)\n",
      "\u001b[1;31mModuleNotFoundError\u001b[0m: No module named 'sklearn.ensemble.partial_dependence'"
     ]
    }
   ],
   "source": [
    "from sklearn.ensemble.partial_dependence import partial_dependence, plot_partial_dependence\n",
    "# scikit-learn originally implemented partial dependence plots only for Gradient Boosting models\n",
    "# this was due to an implementation detail, and a future release will support all model types.\n",
    "#my_model = GradientBoostingRegressor()\n",
    "# fit the model as usual\n",
    "#my_model.fit(X, y)\n",
    "# Here we make the plot\n",
    "my_plots = plot_partial_dependence(rf_classifier_top5,       \n",
    "                                   features=[0,1,2,3,4], # column numbers of plots we want to show\n",
    "                                   X=X_train_top5,            # raw predictors data.\n",
    "                                   feature_names=['policy_tenure', 'age_of_policyholder', 'age_of_car','population_density'], # labels on graphs\n",
    "                                   grid_resolution=10) # number of values to plot on x axis"
   ]
  },
  {
   "cell_type": "markdown",
   "metadata": {},
   "source": [
    "  Feature  Importance\n",
    "36                  policy_tenure    0.398709\n",
    "38            age_of_policyholder    0.249942\n",
    "37                     age_of_car    0.184341\n",
    "0              population_density    0.139641\n",
    "4                    gross_weight    0.002379\n",
    "2                          length    0.002337\n",
    "3                          height    0.002214\n",
    "44          no_of_safety_measures    0.002069\n",
    "1                           width    0.002059\n",
    "42                 turning_radius    0.002023\n",
    "28  engine_type_F8D Petrol Engine    0.001535\n",
    "43                    ncap_rating    0.001343\n",
    "35                     is_ecw_Yes    0.001103\n",
    "41                     cylinder.1    0.000944\n",
    "40                       cylinder    0.000786"
   ]
  }
 ],
 "metadata": {
  "accelerator": "GPU",
  "colab": {
   "gpuType": "T4",
   "provenance": []
  },
  "kernelspec": {
   "display_name": "Python 3 (ipykernel)",
   "language": "python",
   "name": "python3"
  },
  "language_info": {
   "codemirror_mode": {
    "name": "ipython",
    "version": 3
   },
   "file_extension": ".py",
   "mimetype": "text/x-python",
   "name": "python",
   "nbconvert_exporter": "python",
   "pygments_lexer": "ipython3",
   "version": "3.10.9"
  }
 },
 "nbformat": 4,
 "nbformat_minor": 1
}
